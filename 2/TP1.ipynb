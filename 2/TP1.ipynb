{
 "cells": [
  {
   "cell_type": "markdown",
   "metadata": {},
   "source": [
    "Introduction to Artificial Intelligence - Supervised Learning lab Session Part 1\n",
    "--\n",
    "At the end of this session, you will be able to : \n",
    "- Perform basic supervised learning tasks using sklearn.\n",
    "- Generate PyRat Datasets for a supervised learning setting.\n",
    "- Apply supervised learning on PyRat datasets, in two cases (winner prediction, best movement prediction)."
   ]
  },
  {
   "cell_type": "code",
   "execution_count": 2,
   "metadata": {},
   "outputs": [],
   "source": [
    "# The tqdm package is useful to visualize progress with long computations. \n",
    "# Install it using pip. \n",
    "import tqdm\n",
    "import numpy as np\n",
    "import ast\n",
    "import os"
   ]
  },
  {
   "cell_type": "markdown",
   "metadata": {},
   "source": [
    "Basics of machine learning using sklearn\n",
    "--"
   ]
  },
  {
   "cell_type": "markdown",
   "metadata": {},
   "source": [
    "sklearn is a very powerful package that implements most machine learning methods. sklearn also includes cross-validation procedures in order to prevent overfitting, many useful metrics and data manipulation techniques that enables very careful experimentations with machine learning. It is also very straightforward to use. We will introduce a few basic concepts of sklearn. "
   ]
  },
  {
   "cell_type": "markdown",
   "metadata": {},
   "source": [
    "First, it is very easy to simulate data with sklearn. "
   ]
  },
  {
   "cell_type": "code",
   "execution_count": 16,
   "metadata": {},
   "outputs": [],
   "source": [
    "from sklearn.datasets import make_blobs"
   ]
  },
  {
   "cell_type": "markdown",
   "metadata": {},
   "source": [
    "Use the function make_blobs to generate clouds of points with $d=2$, and visualize them using the function scatter from matplotlib.pyplot. You can generate as many samples as you want.You can generate several clouds of points using the argument centers. We recommend using random_state=0 so that your results are from the same distribution as our tests.\n",
    "\n",
    "Vocabulary : n_samples is the number of generated samples, n_features is $d$ (number of dimensions), centers is the number of classes. \n",
    "\n",
    "Hint : you can use the output \"y\" as an argument for the color argument (\"c\") of the scatter function."
   ]
  },
  {
   "cell_type": "code",
   "execution_count": 75,
   "metadata": {
    "scrolled": true
   },
   "outputs": [],
   "source": [
    "### CELL TO BE COMPLETED - Generate blobs.\n",
    "\n",
    "x_blobs,y_blobs = make_blobs(n_samples=3000,n_features=2,centers=8,random_state=0)\n"
   ]
  },
  {
   "cell_type": "code",
   "execution_count": 76,
   "metadata": {},
   "outputs": [
    {
     "data": {
      "text/plain": [
       "<matplotlib.collections.PathCollection at 0x7f82e7523898>"
      ]
     },
     "execution_count": 76,
     "metadata": {},
     "output_type": "execute_result"
    },
    {
     "data": {
      "image/png": "[encoded data removed]",
      "text/plain": [
       "<Figure size 432x288 with 1 Axes>"
      ]
     },
     "metadata": {
      "needs_background": "light"
     },
     "output_type": "display_data"
    }
   ],
   "source": [
    "### CELL TO BE COMPLETED - Plot.\n",
    "### Don't forget to import pyplot and use %matplotlib inline.\n",
    "import matplotlib.pyplot as plt \n",
    "%matplotlib inline \n",
    "plt.scatter(x_blobs[:,0],x_blobs[:,1],c=y_blobs) "
   ]
  },
  {
   "cell_type": "markdown",
   "metadata": {},
   "source": [
    "You can use other arguments from make_blobs in order to change the variance of the blobs, or the coordinates of their center. You can also experiment on higher dimension, although it becomes difficult to visualize. "
   ]
  },
  {
   "cell_type": "markdown",
   "metadata": {},
   "source": [
    "sklearn has many other data generators, as well as ways to load standard datasets of various sizes. Check them out here: \n",
    "\n",
    "http://scikit-learn.org/stable/datasets/index.html\n"
   ]
  },
  {
   "cell_type": "markdown",
   "metadata": {},
   "source": [
    "Now that we have generated a simple dataset, let's try to do a basic supervised learning approach. \n",
    "\n",
    "First, in order to mesure the ability of the model to generalize, we have to split the dataset into a training set and a test set. The test set is the part of the dataset that the model will not see during the training and will be used as a proxy for your \"real world\" examples.\n",
    "\n",
    "<center><img src=\"https://cdn-images-1.medium.com/max/1600/1*u03UsvBGwkYD4E7BObpcaw.png\"></center>\n",
    "<center><small>Image taken from https://towardsdatascience.com/machine-learning-workflow-on-diabetes-data-part-01-573864fcc6b8</small></center>"
   ]
  },
  {
   "cell_type": "markdown",
   "metadata": {},
   "source": [
    "In sklearn, you can use the train_test_split function to split datasets.\n",
    "\n",
    "Try to split the dataset you previously generated (the blobs) into x_train, x_test, y_train, y_test, with 80% in x_train and 20% in x_test. Set random_state = 0 so that the function always returns the same split."
   ]
  },
  {
   "cell_type": "code",
   "execution_count": 77,
   "metadata": {},
   "outputs": [],
   "source": [
    "#### CELL TO BE COMPLETED \n",
    "from sklearn.model_selection import train_test_split\n",
    "x_train, x_test, y_train, y_test = train_test_split(x_blobs,y_blobs,test_size=0.2,random_state=0)"
   ]
  },
  {
   "cell_type": "markdown",
   "metadata": {},
   "source": [
    "Check the shapes of the generated vectors."
   ]
  },
  {
   "cell_type": "code",
   "execution_count": 78,
   "metadata": {},
   "outputs": [
    {
     "data": {
      "text/plain": [
       "((2400, 2), (600, 2), (3000, 2))"
      ]
     },
     "execution_count": 78,
     "metadata": {},
     "output_type": "execute_result"
    }
   ],
   "source": [
    "x_train.shape, x_test.shape, x_blobs.shape"
   ]
  },
  {
   "cell_type": "markdown",
   "metadata": {},
   "source": [
    "Let's use a K-Nearest Neighbor classifier to test whether we can classify this dataset. Create a <b>classifier</b>, train it using your <b> training set </b> and evaluate it by its <b>accuracy</b> on both <b>the train and test sets</b>. \n",
    "\n",
    "In K-Nearest Neighbor classification (also known as KNN), when you want to predict the class of an object, you look at the K (an hyperparameter) nearest examples from the training (using a distance metric, in our case the euclidean distance). This object is then classified by a majority vote among its neighbors. In other words, the class of the object is the most common class among its neighbours.\n",
    "\n",
    "To use a Nearest Neighbor with sklearn, you have to use the class [KNeighborsClassifier](http://scikit-learn.org/stable/modules/generated/sklearn.neighbors.KNeighborsClassifier.html#sklearn.neighbors.KNeighborsClassifier).\n",
    "\n",
    "The sklearn API is consistent. This means that for almost every method they propose you can train it using [object.fit](http://scikit-learn.org/stable/modules/generated/sklearn.neighbors.KNeighborsClassifier.html#sklearn.neighbors.KNeighborsClassifier.fit), you can use it to make prediction with [object.predict](http://scikit-learn.org/stable/modules/generated/sklearn.neighbors.KNeighborsClassifier.html#sklearn.neighbors.KNeighborsClassifier.predict) and finally verify the <b>accuracy</b> of the method using [object.score](http://scikit-learn.org/stable/modules/generated/sklearn.neighbors.KNeighborsClassifier.html#sklearn.neighbors.KNeighborsClassifier.score)."
   ]
  },
  {
   "cell_type": "code",
   "execution_count": 79,
   "metadata": {
    "scrolled": false
   },
   "outputs": [
    {
     "name": "stdout",
     "output_type": "stream",
     "text": [
      "Accuracy of train set 100.0%\n",
      "Accuracy of test set 89.83333333333333%\n"
     ]
    }
   ],
   "source": [
    "### CELL TO BE COMPLETED - Train the classifier and get the accuracy in both sets.\n",
    "from sklearn.neighbors import KNeighborsClassifier\n",
    "k = 1\n",
    "classifier = KNeighborsClassifier(n_neighbors=k,n_jobs=1)\n",
    "classifier.fit(x_train,y_train)\n",
    "#print(classifier.predict(x_test))\n",
    "print(\"Accuracy of train set {}%\".format(classifier.score(x_train,y_train)*100))\n",
    "print(\"Accuracy of test set {}%\".format(classifier.score(x_test,y_test)*100))"
   ]
  },
  {
   "cell_type": "markdown",
   "metadata": {},
   "source": [
    "Your classifier should have a train accuracy of 1, while the test accuracy should be high but not perfect.\n",
    "\n",
    "This is caused by the bias-variance trade-off. The 1-NN classifier always has a bias of 0 (it perfectly classifies the training set) but it has a high variance given that having one more example in the training set can completely change a decision.\n",
    "\n",
    "Try to avoid having such a high variance, test different values of k and plot the accuracies given the different values of the hyperparameter k. \n",
    "\n",
    "If you have time, we advise you to do the same analysis but varying the train/test split size."
   ]
  },
  {
   "cell_type": "code",
   "execution_count": 94,
   "metadata": {},
   "outputs": [
    {
     "name": "stderr",
     "output_type": "stream",
     "text": [
      "100%|██████████| 24/24 [00:02<00:00,  8.18it/s]\n"
     ]
    },
    {
     "name": "stdout",
     "output_type": "stream",
     "text": [
      "Best k: 11\n",
      "Best accuracy for test set {}% 92.33333333333333\n"
     ]
    },
    {
     "data": {
      "image/png": "[encoded data removed]",
      "text/plain": [
       "<Figure size 432x288 with 1 Axes>"
      ]
     },
     "metadata": {
      "needs_background": "light"
     },
     "output_type": "display_data"
    }
   ],
   "source": [
    "# CELL TO BE COMPLETED - Train networks with varying k.\n",
    "train_acc = list()\n",
    "test_acc = list()  # list storing the test set accuracies\n",
    "test_ks = range(1,25)  # list containing values of k to be tested\n",
    "\n",
    "for k in tqdm.tqdm(test_ks):\n",
    "    classifier_new = KNeighborsClassifier(n_neighbors=k)\n",
    "    classifier_new.fit(x_train,y_train)\n",
    "    train_acc.append(classifier_new.score(x_train,y_train))\n",
    "    test_acc.append(classifier_new.score(x_test,y_test))\n",
    "plt.plot(test_ks,train_acc,color=\"blue\",label=\"train set\")\n",
    "plt.plot(test_ks,test_acc,color=\"green\",label=\"test set\")\n",
    "plt.xlabel(\"k\")\n",
    "plt.ylabel(\"Accuracy\")\n",
    "plt.legend(loc='best',edgecolor='black')\n",
    "print(\"Best k: {}\".format(test_ks[np.argmax(test_acc)]))\n",
    "print(\"Best accuracy for test set {}%\",max(test_acc)*100)"
   ]
  },
  {
   "cell_type": "markdown",
   "metadata": {},
   "source": [
    "Once your classifier is trained, and bias-variance analysed, it is time to look at other metrics based on your results. It is important to remember that accuracy is a key metric, but it is not the <b> only </b> metric you should be focusing on.\n",
    "\n",
    "Print a [classification report](http://scikit-learn.org/stable/modules/generated/sklearn.metrics.classification_report.html#sklearn.metrics.classification_report) and a [confusion matrix](http://scikit-learn.org/stable/modules/generated/sklearn.metrics.confusion_matrix.html#sklearn.metrics.confusion_matrix) for both training and test sets.\n",
    "\n",
    "In the classification report, you are going to see 3 new metrics. They are really important because the accuracy does not show a complete portrait of your results.\n",
    "\n",
    "* Precision: What is the percentage of cases your model correctly classified while predicting a given class?\n",
    "* Recall: What is the percentage of cases your model correctly classified while predicting examples belonging to a given class?\n",
    "* F1 Score: Harmonic mean from precision and recall."
   ]
  },
  {
   "cell_type": "code",
   "execution_count": 95,
   "metadata": {},
   "outputs": [
    {
     "name": "stdout",
     "output_type": "stream",
     "text": [
      "Training Set:\n",
      "              precision    recall  f1-score   support\n",
      "\n",
      "           0       1.00      1.00      1.00       302\n",
      "           1       1.00      1.00      1.00       298\n",
      "           2       1.00      1.00      1.00       303\n",
      "           3       1.00      1.00      1.00       296\n",
      "           4       1.00      1.00      1.00       308\n",
      "           5       1.00      1.00      1.00       301\n",
      "           6       1.00      1.00      1.00       287\n",
      "           7       1.00      1.00      1.00       305\n",
      "\n",
      "    accuracy                           1.00      2400\n",
      "   macro avg       1.00      1.00      1.00      2400\n",
      "weighted avg       1.00      1.00      1.00      2400\n",
      "\n",
      "[[302   0   0   0   0   0   0   0]\n",
      " [  0 298   0   0   0   0   0   0]\n",
      " [  0   0 303   0   0   0   0   0]\n",
      " [  0   0   0 296   0   0   0   0]\n",
      " [  0   0   0   0 308   0   0   0]\n",
      " [  0   0   0   0   0 301   0   0]\n",
      " [  0   0   0   0   0   0 287   0]\n",
      " [  0   0   0   0   0   0   0 305]]\n"
     ]
    },
    {
     "data": {
      "text/plain": [
       "Text(0, 0.5, 'Predicted class')"
      ]
     },
     "execution_count": 95,
     "metadata": {},
     "output_type": "execute_result"
    },
    {
     "data": {
      "image/png": "[encoded data removed]",
      "text/plain": [
       "<Figure size 288x288 with 2 Axes>"
      ]
     },
     "metadata": {
      "needs_background": "light"
     },
     "output_type": "display_data"
    }
   ],
   "source": [
    "from sklearn.metrics import classification_report,confusion_matrix\n",
    "\n",
    "y_pred_train = classifier.predict(x_train)\n",
    "report = classification_report(y_true=y_train,y_pred=y_pred_train)\n",
    "matrix = confusion_matrix(y_true=y_train,y_pred=y_pred_train)\n",
    "print(\"Training Set:\")\n",
    "print(report)\n",
    "print(matrix)\n",
    "plt.matshow(matrix)\n",
    "plt.colorbar()\n",
    "plt.xlabel(\"Real class\")\n",
    "plt.ylabel(\"Predicted class\")"
   ]
  },
  {
   "cell_type": "code",
   "execution_count": 96,
   "metadata": {},
   "outputs": [
    {
     "name": "stdout",
     "output_type": "stream",
     "text": [
      "Test Set:\n",
      "              precision    recall  f1-score   support\n",
      "\n",
      "           0       0.76      0.82      0.79        73\n",
      "           1       0.84      0.91      0.88        77\n",
      "           2       0.90      0.83      0.86        72\n",
      "           3       0.89      0.82      0.86        79\n",
      "           4       0.99      1.00      0.99        67\n",
      "           5       0.96      0.92      0.94        74\n",
      "           6       0.89      0.90      0.89        88\n",
      "           7       1.00      1.00      1.00        70\n",
      "\n",
      "    accuracy                           0.90       600\n",
      "   macro avg       0.90      0.90      0.90       600\n",
      "weighted avg       0.90      0.90      0.90       600\n",
      "\n",
      "[[60  7  5  1  0  0  0  0]\n",
      " [ 2 70  2  0  0  3  0  0]\n",
      " [10  1 60  1  0  0  0  0]\n",
      " [ 4  0  0 65  0  0 10  0]\n",
      " [ 0  0  0  0 67  0  0  0]\n",
      " [ 0  5  0  0  1 68  0  0]\n",
      " [ 3  0  0  6  0  0 79  0]\n",
      " [ 0  0  0  0  0  0  0 70]]\n"
     ]
    },
    {
     "data": {
      "text/plain": [
       "Text(0, 0.5, 'Predicted class')"
      ]
     },
     "execution_count": 96,
     "metadata": {},
     "output_type": "execute_result"
    },
    {
     "data": {
      "image/png": "[encoded data removed]",
      "text/plain": [
       "<Figure size 288x288 with 2 Axes>"
      ]
     },
     "metadata": {
      "needs_background": "light"
     },
     "output_type": "display_data"
    }
   ],
   "source": [
    "### CELL TO BE COMPLETED - Generate the report and confusion matrix for the test set.\n",
    "y_pred_test = classifier.predict(x_test)\n",
    "report = classification_report(y_true=y_test,y_pred=y_pred_test)\n",
    "matrix = confusion_matrix(y_true=y_test,y_pred=y_pred_test)\n",
    "print(\"Test Set:\")\n",
    "print(report)\n",
    "print(matrix)\n",
    "plt.matshow(matrix)\n",
    "plt.colorbar()\n",
    "plt.xlabel(\"Real class\")\n",
    "plt.ylabel(\"Predicted class\")"
   ]
  },
  {
   "cell_type": "markdown",
   "metadata": {},
   "source": [
    "Finally, you are going to plot the decision boundaries of our model. Use the function plot_boundaries given below. You can only do this if the tensor representing your data is two dimensional.\n",
    "\n",
    "This function will test our model with values ranging from the smallest x to the highest x and from the lowest y to the highest y, each varying by $h$ and plot it nicely. [Link to the original implementation.](http://scikit-learn.org/stable/auto_examples/neighbors/plot_classification.html#sphx-glr-auto-examples-neighbors-plot-classification-py)"
   ]
  },
  {
   "cell_type": "code",
   "execution_count": 97,
   "metadata": {
    "scrolled": true
   },
   "outputs": [
    {
     "data": {
      "image/png": "[encoded data removed]",
      "text/plain": [
       "<Figure size 432x288 with 1 Axes>"
      ]
     },
     "metadata": {
      "needs_background": "light"
     },
     "output_type": "display_data"
    }
   ],
   "source": [
    "from matplotlib.colors import ListedColormap\n",
    "\n",
    "def plot_boundaries(classifier,X,Y,h=0.2):\n",
    "    x0_min, x0_max = X[:, 0].min() - 1, X[:, 0].max() + 1\n",
    "    x1_min, x1_max = X[:, 1].min() - 1, X[:, 1].max() + 1\n",
    "    x0, x1 = np.meshgrid(np.arange(x0_min, x0_max,h),\n",
    "                         np.arange(x1_min, x1_max,h))\n",
    "    dataset = np.c_[x0.ravel(),x1.ravel()]\n",
    "    Z = classifier.predict(dataset)\n",
    "\n",
    "    # Put the result into a color plot\n",
    "    Z = Z.reshape(x0.shape)\n",
    "    plt.figure()\n",
    "    plt.pcolormesh(x0, x1, Z)\n",
    "\n",
    "    # Plot also the training points\n",
    "    plt.scatter(X[:, 0], X[:, 1], c=Y,\n",
    "                edgecolor='k', s=20)\n",
    "    plt.xlim(x0.min(), x0.max())\n",
    "    plt.ylim(x1.min(), x1.max())\n",
    "plot_boundaries(classifier,x_train,y_train)"
   ]
  },
  {
   "cell_type": "markdown",
   "metadata": {},
   "source": [
    "Generating PyRat datasets\n",
    "--\n",
    "First, you need the latest version of PyRat. To obtain it, clone the [official PyRat repository](https://github.com/vgripon/pyrat). \n",
    "\n",
    "Syntax is \"git clone repo destinationdir\"."
   ]
  },
  {
   "cell_type": "code",
   "execution_count": 102,
   "metadata": {},
   "outputs": [],
   "source": [
    "### TO DO: open a terminal tab / window and clone the repo."
   ]
  },
  {
   "cell_type": "markdown",
   "metadata": {},
   "source": [
    "You can now launch Pyrat Games. \n",
    "\n",
    "In the context of the AI course, we are going to simplify the rules of PyRat a bit.\n",
    "In fact, we are going to remove all walls and mud penalties. Also, we are not going to consider symmetric mazes anymore.\n",
    "\n",
    "As such, a default game is launched with the following parameters:\n",
    "<pre>python3 pyrat.py -p 40 -md 0 -d 0 --nonsymmetric</pre>\n",
    "\n",
    "In the supervised and unsupervised projects, we are going to look at plays between two greedy algorithms. Generating 1000 such games while saving data is easily obtained with PyRat:\n",
    "<pre>python3 pyrat.py -p 40 -md 0 -d 0 --nonsymmetric --rat AIs/manh.py --python AIs/manh.py --tests 1000 --nodrawing --synchronous --save</pre>\n",
    "\n",
    "We recommend that you open another terminal to launch this command. Generating 1000 games will take a few minutes, and you won't be able to evaluate any other cell from the jupyter notebook. \n",
    "\n",
    "It is possible to open a terminal window from the \"Home\" Interface of Jupyter Notebook.\n",
    "\n",
    "PS: If you don't have pygame installed in your machine, open a terminal and run:\n",
    "\n",
    "<pre>pip install pygame</pre>"
   ]
  },
  {
   "cell_type": "markdown",
   "metadata": {},
   "source": [
    "The 1000 generated games will be in the \"saves\" folder."
   ]
  },
  {
   "cell_type": "code",
   "execution_count": 103,
   "metadata": {},
   "outputs": [],
   "source": [
    "### TO DO: open a terminal tab / window and launch the command to generate the games."
   ]
  },
  {
   "cell_type": "markdown",
   "metadata": {},
   "source": [
    "To convert the games into numpy arrays, we use a few functions that we define here. Feel free to modify it later to your own needs."
   ]
  },
  {
   "cell_type": "code",
   "execution_count": 105,
   "metadata": {},
   "outputs": [],
   "source": [
    "mazeHeight = 15\n",
    "mazeWidth = 21\n",
    "\n",
    "\n",
    "def convert_input(maze, mazeWidth, mazeHeight, piecesOfCheese):\n",
    "    im_size = (mazeWidth, mazeHeight) \n",
    "    canvas = np.zeros(im_size,dtype=np.int8)\n",
    "    for (x_cheese,y_cheese) in piecesOfCheese:\n",
    "        canvas[x_cheese,y_cheese] = 1\n",
    "    # to use it with sklearn, we flatten the matrix into an vector\n",
    "    return canvas.ravel()\n",
    "\n",
    "\n",
    "PHRASES = {\n",
    "    \"# Random seed\\n\": \"seed\",\n",
    "    \"# MazeMap\\n\": \"maze\",\n",
    "    \"# Pieces of cheese\\n\": \"pieces\"    ,\n",
    "    \"# Rat initial location\\n\": \"rat\"    ,\n",
    "    \"# Python initial location\\n\": \"python\"   , \n",
    "    \"rat_location then python_location then pieces_of_cheese then rat_decision then python_decision\\n\": \"play\"\n",
    "}\n",
    " \n",
    "MOVE_DOWN = 'D'\n",
    "MOVE_LEFT = 'L'\n",
    "MOVE_RIGHT = 'R'\n",
    "MOVE_UP = 'U'\n",
    " \n",
    "translate_action = {\n",
    "    MOVE_LEFT:0,\n",
    "    MOVE_RIGHT:1,\n",
    "    MOVE_UP:2,\n",
    "    MOVE_DOWN:3\n",
    "}\n",
    "\n",
    "\n",
    "def process_file(filename):\n",
    "    f = open(filename,\"r\")    \n",
    "    info = f.readline()\n",
    "    params = dict(play=list())\n",
    "    while info is not None:\n",
    "        if info.startswith(\"{\"):\n",
    "            params[\"end\"] = ast.literal_eval(info)\n",
    "            break\n",
    "        if \"turn \" in info:\n",
    "            info = info[info.find('rat_location'):]\n",
    "        if info in PHRASES.keys():\n",
    "            param = PHRASES[info]\n",
    "            if param == \"play\":\n",
    "                rat = ast.literal_eval(f.readline())\n",
    "                python = ast.literal_eval(f.readline())\n",
    "                pieces = ast.literal_eval(f.readline())\n",
    "                rat_decision = f.readline().replace(\"\\n\",\"\")\n",
    "                python_decision = f.readline().replace(\"\\n\",\"\")\n",
    "                play_dict = dict(\n",
    "                    rat=rat,python=python,piecesOfCheese=pieces,\n",
    "                    rat_decision=rat_decision,python_decision=python_decision)\n",
    "                params[param].append(play_dict)\n",
    "            else:\n",
    "                params[param] = ast.literal_eval(f.readline())\n",
    "        else:\n",
    "            print(\"did not understand:\", info)\n",
    "            break\n",
    "        info = f.readline()\n",
    "    return params"
   ]
  },
  {
   "cell_type": "markdown",
   "metadata": {},
   "source": [
    "Now, we are ready to parse the \"saves\" folder in order to generate the data into a numpy array. \n",
    "\n",
    "**N.b. you don't have to run this cell if you only want to run through the provided correction of TP1. We provide a npz file with a saved dataset**"
   ]
  },
  {
   "cell_type": "code",
   "execution_count": 111,
   "metadata": {},
   "outputs": [
    {
     "name": "stderr",
     "output_type": "stream",
     "text": [
      "100%|██████████| 1001/1001 [00:39<00:00, 25.31it/s]\n",
      "100%|██████████| 1000/1000 [00:00<00:00, 4773.57it/s]\n"
     ]
    }
   ],
   "source": [
    "games = list()\n",
    "directory = \"/home/zheng/Documents/AI/2/PyRat/saves/\"  ## to modify\n",
    "for root, dirs, files in os.walk(directory):\n",
    "    for filename in tqdm.tqdm(files):\n",
    "        try:\n",
    "            if filename.startswith(\".\"):\n",
    "                continue\n",
    "            game_params = process_file(directory+filename)\n",
    "            games.append(game_params)\n",
    "        except:\n",
    "            print(\"Filename {} did not work\".format(filename))\n",
    "\n",
    "x = np.array([]).reshape(0,mazeWidth * mazeHeight)\n",
    "y = np.array([]).reshape(0,1)\n",
    "wins_python = 0\n",
    "wins_rat = 0\n",
    "for game in tqdm.tqdm(games):\n",
    "    if game[\"end\"][\"win_python\"] == 1: \n",
    "        wins_python += 1\n",
    "    elif game[\"end\"][\"win_rat\"] == 1:\n",
    "        wins_rat += 1    \n",
    "    canvas = convert_input(game[\"maze\"], mazeWidth, mazeHeight, game[\"play\"][0][\"piecesOfCheese\"])\n",
    "    if game[\"end\"][\"win_python\"] == 1:\n",
    "        y = np.append(y,1)\n",
    "    elif game[\"end\"][\"win_rat\"] == 1:\n",
    "        y = np.append(y,-1)\n",
    "    else:\n",
    "        y = np.append(y,0)\n",
    "    x = np.concatenate([x, canvas.reshape(1,-1)], axis=0)"
   ]
  },
  {
   "cell_type": "markdown",
   "metadata": {},
   "source": [
    "x and y are numpy array, feel free to save them to a .npz file as seen in TP0. "
   ]
  },
  {
   "cell_type": "code",
   "execution_count": 112,
   "metadata": {},
   "outputs": [
    {
     "name": "stdout",
     "output_type": "stream",
     "text": [
      "(1000, 315) (1000,)\n"
     ]
    }
   ],
   "source": [
    "### CELL TO BE COMPLETED\n",
    "### CHECK THE SHAPES OF X AND Y \n",
    "### SAVE X AND Y IN A NPZ FILE \n",
    "print(x.shape,y.shape)\n",
    "np.savez(\"dataset.npz\",x=x,y=y)"
   ]
  },
  {
   "cell_type": "markdown",
   "metadata": {},
   "source": [
    "Predicting the winner in PyRat based on the initial cheese configuration\n",
    "--\n",
    "\n",
    "Now it is your turn, generate a PyRat dataset, load it in the notebook and evaluate a KNN classifier using sklearn.\n"
   ]
  },
  {
   "cell_type": "code",
   "execution_count": 117,
   "metadata": {},
   "outputs": [],
   "source": [
    "x = np.load(\"dataset.npz\")['x']\n",
    "y = np.load(\"dataset.npz\")['y']"
   ]
  },
  {
   "cell_type": "code",
   "execution_count": 122,
   "metadata": {},
   "outputs": [],
   "source": [
    "x_train, x_test, y_train, y_test = train_test_split(x,y,test_size=0.2,random_state=0)"
   ]
  },
  {
   "cell_type": "code",
   "execution_count": 123,
   "metadata": {},
   "outputs": [
    {
     "data": {
      "text/plain": [
       "((800, 315), (200, 315), (3000, 2))"
      ]
     },
     "execution_count": 123,
     "metadata": {},
     "output_type": "execute_result"
    }
   ],
   "source": [
    "x_train.shape, x_test.shape, x_blobs.shape"
   ]
  },
  {
   "cell_type": "code",
   "execution_count": 124,
   "metadata": {},
   "outputs": [
    {
     "name": "stdout",
     "output_type": "stream",
     "text": [
      "Accuracy of train set 100.0%\n",
      "Accuracy of test set 37.5%\n"
     ]
    }
   ],
   "source": [
    "from sklearn.neighbors import KNeighborsClassifier\n",
    "k = 1\n",
    "classifier = KNeighborsClassifier(n_neighbors=k,n_jobs=1)\n",
    "classifier.fit(x_train,y_train)\n",
    "#print(classifier.predict(x_test))\n",
    "print(\"Accuracy of train set {}%\".format(classifier.score(x_train,y_train)*100))\n",
    "print(\"Accuracy of test set {}%\".format(classifier.score(x_test,y_test)*100))"
   ]
  },
  {
   "cell_type": "code",
   "execution_count": 125,
   "metadata": {},
   "outputs": [
    {
     "name": "stderr",
     "output_type": "stream",
     "text": [
      "100%|██████████| 24/24 [00:13<00:00,  1.76it/s]\n"
     ]
    },
    {
     "name": "stdout",
     "output_type": "stream",
     "text": [
      "Best k: 16\n",
      "Best accuracy for test set {}% 51.5\n"
     ]
    },
    {
     "data": {
      "image/png": "[encoded data removed]",
      "text/plain": [
       "<Figure size 432x288 with 1 Axes>"
      ]
     },
     "metadata": {
      "needs_background": "light"
     },
     "output_type": "display_data"
    }
   ],
   "source": [
    "train_acc = list()\n",
    "test_acc = list()  # list storing the test set accuracies\n",
    "test_ks = range(1,25)  # list containing values of k to be tested\n",
    "\n",
    "for k in tqdm.tqdm(test_ks):\n",
    "    classifier_new = KNeighborsClassifier(n_neighbors=k)\n",
    "    classifier_new.fit(x_train,y_train)\n",
    "    train_acc.append(classifier_new.score(x_train,y_train))\n",
    "    test_acc.append(classifier_new.score(x_test,y_test))\n",
    "plt.plot(test_ks,train_acc,color=\"blue\",label=\"train set\")\n",
    "plt.plot(test_ks,test_acc,color=\"green\",label=\"test set\")\n",
    "plt.xlabel(\"k\")\n",
    "plt.ylabel(\"Accuracy\")\n",
    "plt.legend(loc='best',edgecolor='black')\n",
    "print(\"Best k: {}\".format(test_ks[np.argmax(test_acc)]))\n",
    "print(\"Best accuracy for test set {}%\",max(test_acc)*100)"
   ]
  },
  {
   "cell_type": "code",
   "execution_count": 126,
   "metadata": {},
   "outputs": [
    {
     "name": "stdout",
     "output_type": "stream",
     "text": [
      "Accuracy of train set 59.0%\n",
      "Accuracy of test set 51.5%\n"
     ]
    }
   ],
   "source": [
    "k = 16\n",
    "classifier = KNeighborsClassifier(n_neighbors=k,n_jobs=1)\n",
    "classifier.fit(x_train,y_train)\n",
    "#print(classifier.predict(x_test))\n",
    "print(\"Accuracy of train set {}%\".format(classifier.score(x_train,y_train)*100))\n",
    "print(\"Accuracy of test set {}%\".format(classifier.score(x_test,y_test)*100))"
   ]
  },
  {
   "cell_type": "code",
   "execution_count": 131,
   "metadata": {},
   "outputs": [
    {
     "name": "stdout",
     "output_type": "stream",
     "text": [
      "Training Set:\n",
      "              precision    recall  f1-score   support\n",
      "\n",
      "        -1.0       0.58      0.67      0.62       347\n",
      "         0.0       1.00      0.01      0.02        93\n",
      "         1.0       0.60      0.67      0.63       360\n",
      "\n",
      "    accuracy                           0.59       800\n",
      "   macro avg       0.73      0.45      0.42       800\n",
      "weighted avg       0.64      0.59      0.56       800\n",
      "\n",
      "[[231   0 116]\n",
      " [ 45   1  47]\n",
      " [120   0 240]]\n",
      "[[0.66570605 0.         0.32222222]\n",
      " [0.129683   0.01075269 0.13055556]\n",
      " [0.34582133 0.         0.66666667]]\n"
     ]
    },
    {
     "data": {
      "text/plain": [
       "Text(0, 0.5, 'Predicted class')"
      ]
     },
     "execution_count": 131,
     "metadata": {},
     "output_type": "execute_result"
    },
    {
     "data": {
      "image/png": "[encoded data removed]",
      "text/plain": [
       "<Figure size 288x288 with 2 Axes>"
      ]
     },
     "metadata": {
      "needs_background": "light"
     },
     "output_type": "display_data"
    }
   ],
   "source": [
    "y_pred_train = classifier.predict(x_train)\n",
    "report = classification_report(y_true=y_train,y_pred=y_pred_train)\n",
    "matrix = confusion_matrix(y_true=y_train,y_pred=y_pred_train)\n",
    "normalized_matrix = matrix/np.sum(matrix,axis=1)\n",
    "print(\"Training Set:\")\n",
    "print(report)\n",
    "print(matrix)\n",
    "print(normalized_matrix)\n",
    "plt.matshow(normalized_matrix,vmin=0,vmax=1)\n",
    "plt.colorbar()\n",
    "plt.xlabel(\"Real class\")\n",
    "plt.ylabel(\"Predicted class\")"
   ]
  },
  {
   "cell_type": "code",
   "execution_count": 132,
   "metadata": {},
   "outputs": [
    {
     "name": "stdout",
     "output_type": "stream",
     "text": [
      "Test Set:\n",
      "              precision    recall  f1-score   support\n",
      "\n",
      "        -1.0       0.51      0.58      0.54        92\n",
      "         0.0       0.00      0.00      0.00        22\n",
      "         1.0       0.52      0.58      0.55        86\n",
      "\n",
      "    accuracy                           0.52       200\n",
      "   macro avg       0.35      0.39      0.36       200\n",
      "weighted avg       0.46      0.52      0.49       200\n",
      "\n",
      "[[53  1 38]\n",
      " [14  0  8]\n",
      " [36  0 50]]\n",
      "[[0.57608696 0.04545455 0.44186047]\n",
      " [0.15217391 0.         0.09302326]\n",
      " [0.39130435 0.         0.58139535]]\n"
     ]
    },
    {
     "data": {
      "text/plain": [
       "Text(0, 0.5, 'Predicted class')"
      ]
     },
     "execution_count": 132,
     "metadata": {},
     "output_type": "execute_result"
    },
    {
     "data": {
      "image/png": "[encoded data removed]",
      "text/plain": [
       "<Figure size 288x288 with 2 Axes>"
      ]
     },
     "metadata": {
      "needs_background": "light"
     },
     "output_type": "display_data"
    }
   ],
   "source": [
    "y_pred_test = classifier.predict(x_test)\n",
    "report = classification_report(y_true=y_test,y_pred=y_pred_test)\n",
    "matrix = confusion_matrix(y_true=y_test,y_pred=y_pred_test)\n",
    "normalized_matrix = matrix/np.sum(matrix,axis=1)\n",
    "print(\"Test Set:\")\n",
    "print(report)\n",
    "print(matrix)\n",
    "print(normalized_matrix)\n",
    "plt.matshow(normalized_matrix,vmin=0,vmax=1)\n",
    "plt.colorbar()\n",
    "plt.xlabel(\"Real class\")\n",
    "plt.ylabel(\"Predicted class\")"
   ]
  },
  {
   "cell_type": "markdown",
   "metadata": {},
   "source": [
    "## A few more things to test (perspectives for P1 project) \n",
    "- Try to make a binary classification between Pyrat and python wins.\n",
    "- Try to improve the classification performance of the draw class by using a balanced dataset for the three classes (i.e. try to have the same number of examples in each class).\n",
    "- Try to change the parameters of the maze (mazeWidth, mazeHeight, piecesOfCheese, ...). \n",
    "\n",
    "\n",
    "*When working on your project P1, we expect you to investigate these last questions in order to explore the method you chose.*"
   ]
  },
  {
   "cell_type": "code",
   "execution_count": null,
   "metadata": {},
   "outputs": [],
   "source": []
  },
  {
   "cell_type": "markdown",
   "metadata": {},
   "source": [
    "Part 2 - Playing PyRat using Machine Learning by training a classifier to predict the next movement to play (or - Supervised Baseline for Pyrat Challenge)\n",
    "--"
   ]
  },
  {
   "cell_type": "markdown",
   "metadata": {},
   "source": [
    "In the folder of the lab session, in addition to this notebook, there is a subfolder \"supervised_playing\". \n",
    "\n",
    "Go into this folder. You will find a few files. Complete them, in order to setup the training of a classifier to play pyrat!\n",
    "\n",
    "Precisely, you have to complete the following files: \n",
    "- utils.py\n",
    "- train.py"
   ]
  }
 ],
 "metadata": {
  "kernelspec": {
   "display_name": "Python 3",
   "language": "python",
   "name": "python3"
  },
  "language_info": {
   "codemirror_mode": {
    "name": "ipython",
    "version": 3
   },
   "file_extension": ".py",
   "mimetype": "text/x-python",
   "name": "python",
   "nbconvert_exporter": "python",
   "pygments_lexer": "ipython3",
   "version": "3.5.2"
  }
 },
 "nbformat": 4,
 "nbformat_minor": 2
}
